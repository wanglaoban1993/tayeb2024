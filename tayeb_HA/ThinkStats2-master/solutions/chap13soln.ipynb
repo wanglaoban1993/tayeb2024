{
 "cells": [
  {
   "cell_type": "markdown",
   "metadata": {},
   "source": [
    "# Chapter 13\n",
    "\n",
    "Examples and Exercises from Think Stats, 2nd Edition\n",
    "\n",
    "http://thinkstats2.com\n",
    "\n",
    "Copyright 2016 Allen B. Downey\n",
    "\n",
    "MIT License: https://opensource.org/licenses/MIT\n"
   ]
  },
  {
   "cell_type": "code",
   "execution_count": 35,
   "metadata": {},
   "outputs": [
    {
     "data": {
      "application/javascript": [
       "\n",
       "            setTimeout(function() {\n",
       "                var nbb_cell_id = 35;\n",
       "                var nbb_unformatted_code = \"from os.path import basename, exists\\n\\n\\ndef download(url):\\n    filename = basename(url)\\n    if not exists(filename):\\n        from urllib.request import urlretrieve\\n\\n        local, _ = urlretrieve(url, filename)\\n        print(\\\"Downloaded \\\" + local)\\n\\n\\ndownload(\\\"https://github.com/AllenDowney/ThinkStats2/raw/master/code/thinkstats2.py\\\")\\ndownload(\\\"https://github.com/AllenDowney/ThinkStats2/raw/master/code/thinkplot.py\\\")\";\n",
       "                var nbb_formatted_code = \"from os.path import basename, exists\\n\\n\\ndef download(url):\\n    filename = basename(url)\\n    if not exists(filename):\\n        from urllib.request import urlretrieve\\n\\n        local, _ = urlretrieve(url, filename)\\n        print(\\\"Downloaded \\\" + local)\\n\\n\\ndownload(\\\"https://github.com/AllenDowney/ThinkStats2/raw/master/code/thinkstats2.py\\\")\\ndownload(\\\"https://github.com/AllenDowney/ThinkStats2/raw/master/code/thinkplot.py\\\")\";\n",
       "                var nbb_cells = Jupyter.notebook.get_cells();\n",
       "                for (var i = 0; i < nbb_cells.length; ++i) {\n",
       "                    if (nbb_cells[i].input_prompt_number == nbb_cell_id) {\n",
       "                        if (nbb_cells[i].get_text() == nbb_unformatted_code) {\n",
       "                             nbb_cells[i].set_text(nbb_formatted_code);\n",
       "                        }\n",
       "                        break;\n",
       "                    }\n",
       "                }\n",
       "            }, 500);\n",
       "            "
      ],
      "text/plain": [
       "<IPython.core.display.Javascript object>"
      ]
     },
     "metadata": {},
     "output_type": "display_data"
    }
   ],
   "source": [
    "from os.path import basename, exists\n",
    "\n",
    "\n",
    "def download(url):\n",
    "    filename = basename(url)\n",
    "    if not exists(filename):\n",
    "        from urllib.request import urlretrieve\n",
    "\n",
    "        local, _ = urlretrieve(url, filename)\n",
    "        print(\"Downloaded \" + local)\n",
    "\n",
    "\n",
    "download(\"https://github.com/AllenDowney/ThinkStats2/raw/master/code/thinkstats2.py\")\n",
    "download(\"https://github.com/AllenDowney/ThinkStats2/raw/master/code/thinkplot.py\")"
   ]
  },
  {
   "cell_type": "code",
   "execution_count": 36,
   "metadata": {},
   "outputs": [
    {
     "data": {
      "application/javascript": [
       "\n",
       "            setTimeout(function() {\n",
       "                var nbb_cell_id = 36;\n",
       "                var nbb_unformatted_code = \"import thinkstats2\\nimport thinkplot\";\n",
       "                var nbb_formatted_code = \"import thinkstats2\\nimport thinkplot\";\n",
       "                var nbb_cells = Jupyter.notebook.get_cells();\n",
       "                for (var i = 0; i < nbb_cells.length; ++i) {\n",
       "                    if (nbb_cells[i].input_prompt_number == nbb_cell_id) {\n",
       "                        if (nbb_cells[i].get_text() == nbb_unformatted_code) {\n",
       "                             nbb_cells[i].set_text(nbb_formatted_code);\n",
       "                        }\n",
       "                        break;\n",
       "                    }\n",
       "                }\n",
       "            }, 500);\n",
       "            "
      ],
      "text/plain": [
       "<IPython.core.display.Javascript object>"
      ]
     },
     "metadata": {},
     "output_type": "display_data"
    }
   ],
   "source": [
    "import thinkstats2\n",
    "import thinkplot"
   ]
  },
  {
   "cell_type": "code",
   "execution_count": 37,
   "metadata": {},
   "outputs": [
    {
     "data": {
      "application/javascript": [
       "\n",
       "            setTimeout(function() {\n",
       "                var nbb_cell_id = 37;\n",
       "                var nbb_unformatted_code = \"import numpy as np\\nimport pandas as pd\";\n",
       "                var nbb_formatted_code = \"import numpy as np\\nimport pandas as pd\";\n",
       "                var nbb_cells = Jupyter.notebook.get_cells();\n",
       "                for (var i = 0; i < nbb_cells.length; ++i) {\n",
       "                    if (nbb_cells[i].input_prompt_number == nbb_cell_id) {\n",
       "                        if (nbb_cells[i].get_text() == nbb_unformatted_code) {\n",
       "                             nbb_cells[i].set_text(nbb_formatted_code);\n",
       "                        }\n",
       "                        break;\n",
       "                    }\n",
       "                }\n",
       "            }, 500);\n",
       "            "
      ],
      "text/plain": [
       "<IPython.core.display.Javascript object>"
      ]
     },
     "metadata": {},
     "output_type": "display_data"
    }
   ],
   "source": [
    "import numpy as np\n",
    "import pandas as pd"
   ]
  },
  {
   "cell_type": "code",
   "execution_count": 89,
   "metadata": {},
   "outputs": [
    {
     "name": "stdout",
     "output_type": "stream",
     "text": [
      "Collecting empiricaldist\n",
      "  Using cached empiricaldist-0.6.2.tar.gz (9.5 kB)\n",
      "Building wheels for collected packages: empiricaldist\n",
      "  Building wheel for empiricaldist (setup.py) ... \u001b[?25ldone\n",
      "\u001b[?25h  Created wheel for empiricaldist: filename=empiricaldist-0.6.2-py3-none-any.whl size=10736 sha256=6b767fa700d2a57e8308328d027ada42aa2eaf0b4c3edc5b6f46a8b04b96f6e2\n",
      "  Stored in directory: /home/downey/.cache/pip/wheels/34/22/5f/9ba9db604d08670e283b2e04551dd407f44cf889fdb9617ce5\n",
      "Successfully built empiricaldist\n",
      "Installing collected packages: empiricaldist\n",
      "Successfully installed empiricaldist-0.6.2\n"
     ]
    },
    {
     "data": {
      "application/javascript": [
       "\n",
       "            setTimeout(function() {\n",
       "                var nbb_cell_id = 89;\n",
       "                var nbb_unformatted_code = \"try:\\n    import empiricaldist\\nexcept ImportError:\\n    !pip install empiricaldist\";\n",
       "                var nbb_formatted_code = \"try:\\n    import empiricaldist\\nexcept ImportError:\\n    !pip install empiricaldist\";\n",
       "                var nbb_cells = Jupyter.notebook.get_cells();\n",
       "                for (var i = 0; i < nbb_cells.length; ++i) {\n",
       "                    if (nbb_cells[i].input_prompt_number == nbb_cell_id) {\n",
       "                        if (nbb_cells[i].get_text() == nbb_unformatted_code) {\n",
       "                             nbb_cells[i].set_text(nbb_formatted_code);\n",
       "                        }\n",
       "                        break;\n",
       "                    }\n",
       "                }\n",
       "            }, 500);\n",
       "            "
      ],
      "text/plain": [
       "<IPython.core.display.Javascript object>"
      ]
     },
     "metadata": {},
     "output_type": "display_data"
    }
   ],
   "source": [
    "try:\n",
    "    import empiricaldist\n",
    "except ImportError:\n",
    "    !pip install empiricaldist"
   ]
  },
  {
   "cell_type": "markdown",
   "metadata": {},
   "source": [
    "## Survival analysis\n",
    "\n",
    "If we have an unbiased sample of complete lifetimes, we can compute the survival function from the CDF and the hazard function from the survival function.\n",
    "\n",
    "Here's the distribution of pregnancy length in the NSFG dataset."
   ]
  },
  {
   "cell_type": "code",
   "execution_count": 40,
   "metadata": {},
   "outputs": [
    {
     "name": "stdout",
     "output_type": "stream",
     "text": [
      "Downloaded 2002FemPreg.dat.gz\n"
     ]
    },
    {
     "data": {
      "application/javascript": [
       "\n",
       "            setTimeout(function() {\n",
       "                var nbb_cell_id = 40;\n",
       "                var nbb_unformatted_code = \"download(\\\"https://github.com/AllenDowney/ThinkStats2/raw/master/code/nsfg.py\\\")\\ndownload(\\\"https://github.com/AllenDowney/ThinkStats2/raw/master/code/2002FemPreg.dct\\\")\\ndownload(\\\"https://github.com/AllenDowney/ThinkStats2/raw/master/code/2002FemPreg.dat.gz\\\")\";\n",
       "                var nbb_formatted_code = \"download(\\\"https://github.com/AllenDowney/ThinkStats2/raw/master/code/nsfg.py\\\")\\ndownload(\\\"https://github.com/AllenDowney/ThinkStats2/raw/master/code/2002FemPreg.dct\\\")\\ndownload(\\n    \\\"https://github.com/AllenDowney/ThinkStats2/raw/master/code/2002FemPreg.dat.gz\\\"\\n)\";\n",
       "                var nbb_cells = Jupyter.notebook.get_cells();\n",
       "                for (var i = 0; i < nbb_cells.length; ++i) {\n",
       "                    if (nbb_cells[i].input_prompt_number == nbb_cell_id) {\n",
       "                        if (nbb_cells[i].get_text() == nbb_unformatted_code) {\n",
       "                             nbb_cells[i].set_text(nbb_formatted_code);\n",
       "                        }\n",
       "                        break;\n",
       "                    }\n",
       "                }\n",
       "            }, 500);\n",
       "            "
      ],
      "text/plain": [
       "<IPython.core.display.Javascript object>"
      ]
     },
     "metadata": {},
     "output_type": "display_data"
    }
   ],
   "source": [
    "download(\"https://github.com/AllenDowney/ThinkStats2/raw/master/code/nsfg.py\")\n",
    "download(\"https://github.com/AllenDowney/ThinkStats2/raw/master/code/2002FemPreg.dct\")\n",
    "download(\n",
    "    \"https://github.com/AllenDowney/ThinkStats2/raw/master/code/2002FemPreg.dat.gz\"\n",
    ")"
   ]
  },
  {
   "cell_type": "code",
   "execution_count": 41,
   "metadata": {},
   "outputs": [
    {
     "data": {
      "application/javascript": [
       "\n",
       "            setTimeout(function() {\n",
       "                var nbb_cell_id = 41;\n",
       "                var nbb_unformatted_code = \"import nsfg\\n\\npreg = nsfg.ReadFemPreg()\\ncomplete = preg.query(\\\"outcome in [1, 3, 4]\\\").prglngth\\ncdf = thinkstats2.Cdf(complete, label=\\\"cdf\\\")\";\n",
       "                var nbb_formatted_code = \"import nsfg\\n\\npreg = nsfg.ReadFemPreg()\\ncomplete = preg.query(\\\"outcome in [1, 3, 4]\\\").prglngth\\ncdf = thinkstats2.Cdf(complete, label=\\\"cdf\\\")\";\n",
       "                var nbb_cells = Jupyter.notebook.get_cells();\n",
       "                for (var i = 0; i < nbb_cells.length; ++i) {\n",
       "                    if (nbb_cells[i].input_prompt_number == nbb_cell_id) {\n",
       "                        if (nbb_cells[i].get_text() == nbb_unformatted_code) {\n",
       "                             nbb_cells[i].set_text(nbb_formatted_code);\n",
       "                        }\n",
       "                        break;\n",
       "                    }\n",
       "                }\n",
       "            }, 500);\n",
       "            "
      ],
      "text/plain": [
       "<IPython.core.display.Javascript object>"
      ]
     },
     "metadata": {},
     "output_type": "display_data"
    }
   ],
   "source": [
    "import nsfg\n",
    "\n",
    "preg = nsfg.ReadFemPreg()\n",
    "complete = preg.query(\"outcome in [1, 3, 4]\").prglngth\n",
    "cdf = thinkstats2.Cdf(complete, label=\"cdf\")"
   ]
  },
  {
   "cell_type": "markdown",
   "metadata": {},
   "source": [
    "The survival function is just the complementary CDF."
   ]
  },
  {
   "cell_type": "code",
   "execution_count": 42,
   "metadata": {},
   "outputs": [
    {
     "data": {
      "application/javascript": [
       "\n",
       "            setTimeout(function() {\n",
       "                var nbb_cell_id = 42;\n",
       "                var nbb_unformatted_code = \"download(\\\"https://github.com/AllenDowney/ThinkDSP/raw/master/code/survival.py\\\")\";\n",
       "                var nbb_formatted_code = \"download(\\\"https://github.com/AllenDowney/ThinkDSP/raw/master/code/survival.py\\\")\";\n",
       "                var nbb_cells = Jupyter.notebook.get_cells();\n",
       "                for (var i = 0; i < nbb_cells.length; ++i) {\n",
       "                    if (nbb_cells[i].input_prompt_number == nbb_cell_id) {\n",
       "                        if (nbb_cells[i].get_text() == nbb_unformatted_code) {\n",
       "                             nbb_cells[i].set_text(nbb_formatted_code);\n",
       "                        }\n",
       "                        break;\n",
       "                    }\n",
       "                }\n",
       "            }, 500);\n",
       "            "
      ],
      "text/plain": [
       "<IPython.core.display.Javascript object>"
      ]
     },
     "metadata": {},
     "output_type": "display_data"
    }
   ],
   "source": [
    "download(\"https://github.com/AllenDowney/ThinkStats2/raw/master/code/survival.py\")"
   ]
  },
  {
   "cell_type": "code",
   "execution_count": 43,
   "metadata": {},
   "outputs": [
    {
     "data": {
      "application/javascript": [
       "\n",
       "            setTimeout(function() {\n",
       "                var nbb_cell_id = 43;\n",
       "                var nbb_unformatted_code = \"import survival\\n\\ndef MakeSurvivalFromCdf(cdf, label=''):\\n    \\\"\\\"\\\"Makes a survival function based on a CDF.\\n\\n    cdf: Cdf\\n    \\n    returns: SurvivalFunction\\n    \\\"\\\"\\\"\\n    ts = cdf.xs\\n    ss = 1 - cdf.ps\\n    return survival.SurvivalFunction(ts, ss, label)\";\n",
       "                var nbb_formatted_code = \"import survival\\n\\n\\ndef MakeSurvivalFromCdf(cdf, label=\\\"\\\"):\\n    \\\"\\\"\\\"Makes a survival function based on a CDF.\\n\\n    cdf: Cdf\\n\\n    returns: SurvivalFunction\\n    \\\"\\\"\\\"\\n    ts = cdf.xs\\n    ss = 1 - cdf.ps\\n    return survival.SurvivalFunction(ts, ss, label)\";\n",
       "                var nbb_cells = Jupyter.notebook.get_cells();\n",
       "                for (var i = 0; i < nbb_cells.length; ++i) {\n",
       "                    if (nbb_cells[i].input_prompt_number == nbb_cell_id) {\n",
       "                        if (nbb_cells[i].get_text() == nbb_unformatted_code) {\n",
       "                             nbb_cells[i].set_text(nbb_formatted_code);\n",
       "                        }\n",
       "                        break;\n",
       "                    }\n",
       "                }\n",
       "            }, 500);\n",
       "            "
      ],
      "text/plain": [
       "<IPython.core.display.Javascript object>"
      ]
     },
     "metadata": {},
     "output_type": "display_data"
    }
   ],
   "source": [
    "import survival\n",
    "\n",
    "\n",
    "def MakeSurvivalFromCdf(cdf, label=\"\"):\n",
    "    \"\"\"Makes a survival function based on a CDF.\n",
    "\n",
    "    cdf: Cdf\n",
    "\n",
    "    returns: SurvivalFunction\n",
    "    \"\"\"\n",
    "    ts = cdf.xs\n",
    "    ss = 1 - cdf.ps\n",
    "    return survival.SurvivalFunction(ts, ss, label)"
   ]
  },
  {
   "cell_type": "code",
   "execution_count": 44,
   "metadata": {},
   "outputs": [
    {
     "data": {
      "application/javascript": [
       "\n",
       "            setTimeout(function() {\n",
       "                var nbb_cell_id = 44;\n",
       "                var nbb_unformatted_code = \"sf = MakeSurvivalFromCdf(cdf, label='survival')\";\n",
       "                var nbb_formatted_code = \"sf = MakeSurvivalFromCdf(cdf, label=\\\"survival\\\")\";\n",
       "                var nbb_cells = Jupyter.notebook.get_cells();\n",
       "                for (var i = 0; i < nbb_cells.length; ++i) {\n",
       "                    if (nbb_cells[i].input_prompt_number == nbb_cell_id) {\n",
       "                        if (nbb_cells[i].get_text() == nbb_unformatted_code) {\n",
       "                             nbb_cells[i].set_text(nbb_formatted_code);\n",
       "                        }\n",
       "                        break;\n",
       "                    }\n",
       "                }\n",
       "            }, 500);\n",
       "            "
      ],
      "text/plain": [
       "<IPython.core.display.Javascript object>"
      ]
     },
     "metadata": {},
     "output_type": "display_data"
    }
   ],
   "source": [
    "sf = MakeSurvivalFromCdf(cdf, label=\"survival\")"
   ]
  },
  {
   "cell_type": "code",
   "execution_count": 45,
   "metadata": {},
   "outputs": [
    {
     "name": "stdout",
     "output_type": "stream",
     "text": [
      "0.1397801412101171\n",
      "0.8602198587898829\n"
     ]
    },
    {
     "data": {
      "application/javascript": [
       "\n",
       "            setTimeout(function() {\n",
       "                var nbb_cell_id = 45;\n",
       "                var nbb_unformatted_code = \"print(cdf[13])\\nprint(sf[13])\";\n",
       "                var nbb_formatted_code = \"print(cdf[13])\\nprint(sf[13])\";\n",
       "                var nbb_cells = Jupyter.notebook.get_cells();\n",
       "                for (var i = 0; i < nbb_cells.length; ++i) {\n",
       "                    if (nbb_cells[i].input_prompt_number == nbb_cell_id) {\n",
       "                        if (nbb_cells[i].get_text() == nbb_unformatted_code) {\n",
       "                             nbb_cells[i].set_text(nbb_formatted_code);\n",
       "                        }\n",
       "                        break;\n",
       "                    }\n",
       "                }\n",
       "            }, 500);\n",
       "            "
      ],
      "text/plain": [
       "<IPython.core.display.Javascript object>"
      ]
     },
     "metadata": {},
     "output_type": "display_data"
    }
   ],
   "source": [
    "print(cdf[13])\n",
    "print(sf[13])"
   ]
  },
  {
   "cell_type": "markdown",
   "metadata": {},
   "source": [
    "Here's the CDF and SF."
   ]
  },
  {
   "cell_type": "code",
   "execution_count": 46,
   "metadata": {},
   "outputs": [
    {
     "data": {
      "image/png": "[encoded data removed]",
      "text/plain": [
       "<Figure size 432x288 with 1 Axes>"
      ]
     },
     "metadata": {
      "needs_background": "light"
     },
     "output_type": "display_data"
    },
    {
     "data": {
      "application/javascript": [
       "\n",
       "            setTimeout(function() {\n",
       "                var nbb_cell_id = 46;\n",
       "                var nbb_unformatted_code = \"thinkplot.Plot(sf)\\nthinkplot.Cdf(cdf, alpha=0.2)\\nthinkplot.Config(loc='center left')\";\n",
       "                var nbb_formatted_code = \"thinkplot.Plot(sf)\\nthinkplot.Cdf(cdf, alpha=0.2)\\nthinkplot.Config(loc=\\\"center left\\\")\";\n",
       "                var nbb_cells = Jupyter.notebook.get_cells();\n",
       "                for (var i = 0; i < nbb_cells.length; ++i) {\n",
       "                    if (nbb_cells[i].input_prompt_number == nbb_cell_id) {\n",
       "                        if (nbb_cells[i].get_text() == nbb_unformatted_code) {\n",
       "                             nbb_cells[i].set_text(nbb_formatted_code);\n",
       "                        }\n",
       "                        break;\n",
       "                    }\n",
       "                }\n",
       "            }, 500);\n",
       "            "
      ],
      "text/plain": [
       "<IPython.core.display.Javascript object>"
      ]
     },
     "metadata": {},
     "output_type": "display_data"
    }
   ],
   "source": [
    "thinkplot.Plot(sf)\n",
    "thinkplot.Cdf(cdf, alpha=0.2)\n",
    "thinkplot.Config(loc=\"center left\")"
   ]
  },
  {
   "cell_type": "markdown",
   "metadata": {},
   "source": [
    "And here's the hazard function."
   ]
  },
  {
   "cell_type": "code",
   "execution_count": 47,
   "metadata": {},
   "outputs": [
    {
     "name": "stdout",
     "output_type": "stream",
     "text": [
      "0.6767068273092369\n"
     ]
    },
    {
     "data": {
      "application/javascript": [
       "\n",
       "            setTimeout(function() {\n",
       "                var nbb_cell_id = 47;\n",
       "                var nbb_unformatted_code = \"hf = sf.MakeHazardFunction(label='hazard')\\nprint(hf[39])\";\n",
       "                var nbb_formatted_code = \"hf = sf.MakeHazardFunction(label=\\\"hazard\\\")\\nprint(hf[39])\";\n",
       "                var nbb_cells = Jupyter.notebook.get_cells();\n",
       "                for (var i = 0; i < nbb_cells.length; ++i) {\n",
       "                    if (nbb_cells[i].input_prompt_number == nbb_cell_id) {\n",
       "                        if (nbb_cells[i].get_text() == nbb_unformatted_code) {\n",
       "                             nbb_cells[i].set_text(nbb_formatted_code);\n",
       "                        }\n",
       "                        break;\n",
       "                    }\n",
       "                }\n",
       "            }, 500);\n",
       "            "
      ],
      "text/plain": [
       "<IPython.core.display.Javascript object>"
      ]
     },
     "metadata": {},
     "output_type": "display_data"
    }
   ],
   "source": [
    "hf = sf.MakeHazardFunction(label=\"hazard\")\n",
    "print(hf[39])"
   ]
  },
  {
   "cell_type": "code",
   "execution_count": 48,
   "metadata": {},
   "outputs": [
    {
     "data": {
      "image/png": "[encoded data removed]",
      "text/plain": [
       "<Figure size 432x288 with 1 Axes>"
      ]
     },
     "metadata": {
      "needs_background": "light"
     },
     "output_type": "display_data"
    },
    {
     "data": {
      "application/javascript": [
       "\n",
       "            setTimeout(function() {\n",
       "                var nbb_cell_id = 48;\n",
       "                var nbb_unformatted_code = \"thinkplot.Plot(hf)\\nthinkplot.Config(ylim=[0, 0.75], loc='upper left')\";\n",
       "                var nbb_formatted_code = \"thinkplot.Plot(hf)\\nthinkplot.Config(ylim=[0, 0.75], loc=\\\"upper left\\\")\";\n",
       "                var nbb_cells = Jupyter.notebook.get_cells();\n",
       "                for (var i = 0; i < nbb_cells.length; ++i) {\n",
       "                    if (nbb_cells[i].input_prompt_number == nbb_cell_id) {\n",
       "                        if (nbb_cells[i].get_text() == nbb_unformatted_code) {\n",
       "                             nbb_cells[i].set_text(nbb_formatted_code);\n",
       "                        }\n",
       "                        break;\n",
       "                    }\n",
       "                }\n",
       "            }, 500);\n",
       "            "
      ],
      "text/plain": [
       "<IPython.core.display.Javascript object>"
      ]
     },
     "metadata": {},
     "output_type": "display_data"
    }
   ],
   "source": [
    "thinkplot.Plot(hf)\n",
    "thinkplot.Config(ylim=[0, 0.75], loc=\"upper left\")"
   ]
  },
  {
   "cell_type": "markdown",
   "metadata": {},
   "source": [
    "## Age at first marriage\n",
    "\n",
    "We'll use the NSFG respondent file to estimate the hazard function and survival function for age at first marriage."
   ]
  },
  {
   "cell_type": "code",
   "execution_count": 53,
   "metadata": {},
   "outputs": [
    {
     "name": "stdout",
     "output_type": "stream",
     "text": [
      "Downloaded 2002FemResp.dat.gz\n"
     ]
    },
    {
     "data": {
      "application/javascript": [
       "\n",
       "            setTimeout(function() {\n",
       "                var nbb_cell_id = 53;\n",
       "                var nbb_unformatted_code = \"download(\\\"https://github.com/AllenDowney/ThinkStats2/raw/master/code/2002FemResp.dct\\\")\\ndownload(\\\"https://github.com/AllenDowney/ThinkStats2/raw/master/code/2002FemResp.dat.gz\\\")\";\n",
       "                var nbb_formatted_code = \"download(\\\"https://github.com/AllenDowney/ThinkStats2/raw/master/code/2002FemResp.dct\\\")\\ndownload(\\n    \\\"https://github.com/AllenDowney/ThinkStats2/raw/master/code/2002FemResp.dat.gz\\\"\\n)\";\n",
       "                var nbb_cells = Jupyter.notebook.get_cells();\n",
       "                for (var i = 0; i < nbb_cells.length; ++i) {\n",
       "                    if (nbb_cells[i].input_prompt_number == nbb_cell_id) {\n",
       "                        if (nbb_cells[i].get_text() == nbb_unformatted_code) {\n",
       "                             nbb_cells[i].set_text(nbb_formatted_code);\n",
       "                        }\n",
       "                        break;\n",
       "                    }\n",
       "                }\n",
       "            }, 500);\n",
       "            "
      ],
      "text/plain": [
       "<IPython.core.display.Javascript object>"
      ]
     },
     "metadata": {},
     "output_type": "display_data"
    }
   ],
   "source": [
    "download(\"https://github.com/AllenDowney/ThinkStats2/raw/master/code/2002FemResp.dct\")\n",
    "download(\n",
    "    \"https://github.com/AllenDowney/ThinkStats2/raw/master/code/2002FemResp.dat.gz\"\n",
    ")"
   ]
  },
  {
   "cell_type": "code",
   "execution_count": 54,
   "metadata": {},
   "outputs": [
    {
     "data": {
      "application/javascript": [
       "\n",
       "            setTimeout(function() {\n",
       "                var nbb_cell_id = 54;\n",
       "                var nbb_unformatted_code = \"resp6 = nsfg.ReadFemResp()\";\n",
       "                var nbb_formatted_code = \"resp6 = nsfg.ReadFemResp()\";\n",
       "                var nbb_cells = Jupyter.notebook.get_cells();\n",
       "                for (var i = 0; i < nbb_cells.length; ++i) {\n",
       "                    if (nbb_cells[i].input_prompt_number == nbb_cell_id) {\n",
       "                        if (nbb_cells[i].get_text() == nbb_unformatted_code) {\n",
       "                             nbb_cells[i].set_text(nbb_formatted_code);\n",
       "                        }\n",
       "                        break;\n",
       "                    }\n",
       "                }\n",
       "            }, 500);\n",
       "            "
      ],
      "text/plain": [
       "<IPython.core.display.Javascript object>"
      ]
     },
     "metadata": {},
     "output_type": "display_data"
    }
   ],
   "source": [
    "resp6 = nsfg.ReadFemResp()"
   ]
  },
  {
   "cell_type": "markdown",
   "metadata": {},
   "source": [
    "We have to clean up a few variables."
   ]
  },
  {
   "cell_type": "code",
   "execution_count": 55,
   "metadata": {},
   "outputs": [
    {
     "data": {
      "application/javascript": [
       "\n",
       "            setTimeout(function() {\n",
       "                var nbb_cell_id = 55;\n",
       "                var nbb_unformatted_code = \"resp6.cmmarrhx.replace([9997, 9998, 9999], np.nan, inplace=True)\\nresp6['agemarry'] = (resp6.cmmarrhx - resp6.cmbirth) / 12.0\\nresp6['age'] = (resp6.cmintvw - resp6.cmbirth) / 12.0\";\n",
       "                var nbb_formatted_code = \"resp6.cmmarrhx.replace([9997, 9998, 9999], np.nan, inplace=True)\\nresp6[\\\"agemarry\\\"] = (resp6.cmmarrhx - resp6.cmbirth) / 12.0\\nresp6[\\\"age\\\"] = (resp6.cmintvw - resp6.cmbirth) / 12.0\";\n",
       "                var nbb_cells = Jupyter.notebook.get_cells();\n",
       "                for (var i = 0; i < nbb_cells.length; ++i) {\n",
       "                    if (nbb_cells[i].input_prompt_number == nbb_cell_id) {\n",
       "                        if (nbb_cells[i].get_text() == nbb_unformatted_code) {\n",
       "                             nbb_cells[i].set_text(nbb_formatted_code);\n",
       "                        }\n",
       "                        break;\n",
       "                    }\n",
       "                }\n",
       "            }, 500);\n",
       "            "
      ],
      "text/plain": [
       "<IPython.core.display.Javascript object>"
      ]
     },
     "metadata": {},
     "output_type": "display_data"
    }
   ],
   "source": [
    "resp6.cmmarrhx.replace([9997, 9998, 9999], np.nan, inplace=True)\n",
    "resp6[\"agemarry\"] = (resp6.cmmarrhx - resp6.cmbirth) / 12.0\n",
    "resp6[\"age\"] = (resp6.cmintvw - resp6.cmbirth) / 12.0"
   ]
  },
  {
   "cell_type": "markdown",
   "metadata": {},
   "source": [
    "And the extract the age at first marriage for people who are married, and the age at time of interview for people who are not."
   ]
  },
  {
   "cell_type": "code",
   "execution_count": 56,
   "metadata": {},
   "outputs": [
    {
     "data": {
      "application/javascript": [
       "\n",
       "            setTimeout(function() {\n",
       "                var nbb_cell_id = 56;\n",
       "                var nbb_unformatted_code = \"complete = resp6[resp6.evrmarry==1].agemarry.dropna()\\nongoing = resp6[resp6.evrmarry==0].age\";\n",
       "                var nbb_formatted_code = \"complete = resp6[resp6.evrmarry == 1].agemarry.dropna()\\nongoing = resp6[resp6.evrmarry == 0].age\";\n",
       "                var nbb_cells = Jupyter.notebook.get_cells();\n",
       "                for (var i = 0; i < nbb_cells.length; ++i) {\n",
       "                    if (nbb_cells[i].input_prompt_number == nbb_cell_id) {\n",
       "                        if (nbb_cells[i].get_text() == nbb_unformatted_code) {\n",
       "                             nbb_cells[i].set_text(nbb_formatted_code);\n",
       "                        }\n",
       "                        break;\n",
       "                    }\n",
       "                }\n",
       "            }, 500);\n",
       "            "
      ],
      "text/plain": [
       "<IPython.core.display.Javascript object>"
      ]
     },
     "metadata": {},
     "output_type": "display_data"
    }
   ],
   "source": [
    "complete = resp6[resp6.evrmarry == 1].agemarry.dropna()\n",
    "ongoing = resp6[resp6.evrmarry == 0].age"
   ]
  },
  {
   "cell_type": "markdown",
   "metadata": {},
   "source": [
    "The following function uses Kaplan-Meier to estimate the hazard function."
   ]
  },
  {
   "cell_type": "code",
   "execution_count": 57,
   "metadata": {},
   "outputs": [
    {
     "data": {
      "application/javascript": [
       "\n",
       "            setTimeout(function() {\n",
       "                var nbb_cell_id = 57;\n",
       "                var nbb_unformatted_code = \"from collections import Counter\\n\\ndef EstimateHazardFunction(complete, ongoing, label='', verbose=False):\\n    \\\"\\\"\\\"Estimates the hazard function by Kaplan-Meier.\\n\\n    http://en.wikipedia.org/wiki/Kaplan%E2%80%93Meier_estimator\\n\\n    complete: list of complete lifetimes\\n    ongoing: list of ongoing lifetimes\\n    label: string\\n    verbose: whether to display intermediate results\\n    \\\"\\\"\\\"\\n    if np.sum(np.isnan(complete)):\\n        raise ValueError(\\\"complete contains NaNs\\\")\\n    if np.sum(np.isnan(ongoing)):\\n        raise ValueError(\\\"ongoing contains NaNs\\\")\\n\\n    hist_complete = Counter(complete)\\n    hist_ongoing = Counter(ongoing)\\n\\n    ts = list(hist_complete | hist_ongoing)\\n    ts.sort()\\n\\n    at_risk = len(complete) + len(ongoing)\\n\\n    lams = pd.Series(index=ts, dtype=float)\\n    for t in ts:\\n        ended = hist_complete[t]\\n        censored = hist_ongoing[t]\\n\\n        lams[t] = ended / at_risk\\n        if verbose:\\n            print(t, at_risk, ended, censored, lams[t])\\n        at_risk -= ended + censored\\n\\n    return survival.HazardFunction(lams, label=label)\";\n",
       "                var nbb_formatted_code = \"from collections import Counter\\n\\n\\ndef EstimateHazardFunction(complete, ongoing, label=\\\"\\\", verbose=False):\\n    \\\"\\\"\\\"Estimates the hazard function by Kaplan-Meier.\\n\\n    http://en.wikipedia.org/wiki/Kaplan%E2%80%93Meier_estimator\\n\\n    complete: list of complete lifetimes\\n    ongoing: list of ongoing lifetimes\\n    label: string\\n    verbose: whether to display intermediate results\\n    \\\"\\\"\\\"\\n    if np.sum(np.isnan(complete)):\\n        raise ValueError(\\\"complete contains NaNs\\\")\\n    if np.sum(np.isnan(ongoing)):\\n        raise ValueError(\\\"ongoing contains NaNs\\\")\\n\\n    hist_complete = Counter(complete)\\n    hist_ongoing = Counter(ongoing)\\n\\n    ts = list(hist_complete | hist_ongoing)\\n    ts.sort()\\n\\n    at_risk = len(complete) + len(ongoing)\\n\\n    lams = pd.Series(index=ts, dtype=float)\\n    for t in ts:\\n        ended = hist_complete[t]\\n        censored = hist_ongoing[t]\\n\\n        lams[t] = ended / at_risk\\n        if verbose:\\n            print(t, at_risk, ended, censored, lams[t])\\n        at_risk -= ended + censored\\n\\n    return survival.HazardFunction(lams, label=label)\";\n",
       "                var nbb_cells = Jupyter.notebook.get_cells();\n",
       "                for (var i = 0; i < nbb_cells.length; ++i) {\n",
       "                    if (nbb_cells[i].input_prompt_number == nbb_cell_id) {\n",
       "                        if (nbb_cells[i].get_text() == nbb_unformatted_code) {\n",
       "                             nbb_cells[i].set_text(nbb_formatted_code);\n",
       "                        }\n",
       "                        break;\n",
       "                    }\n",
       "                }\n",
       "            }, 500);\n",
       "            "
      ],
      "text/plain": [
       "<IPython.core.display.Javascript object>"
      ]
     },
     "metadata": {},
     "output_type": "display_data"
    }
   ],
   "source": [
    "from collections import Counter\n",
    "\n",
    "\n",
    "def EstimateHazardFunction(complete, ongoing, label=\"\", verbose=False):\n",
    "    \"\"\"Estimates the hazard function by Kaplan-Meier.\n",
    "\n",
    "    http://en.wikipedia.org/wiki/Kaplan%E2%80%93Meier_estimator\n",
    "\n",
    "    complete: list of complete lifetimes\n",
    "    ongoing: list of ongoing lifetimes\n",
    "    label: string\n",
    "    verbose: whether to display intermediate results\n",
    "    \"\"\"\n",
    "    if np.sum(np.isnan(complete)):\n",
    "        raise ValueError(\"complete contains NaNs\")\n",
    "    if np.sum(np.isnan(ongoing)):\n",
    "        raise ValueError(\"ongoing contains NaNs\")\n",
    "\n",
    "    hist_complete = Counter(complete)\n",
    "    hist_ongoing = Counter(ongoing)\n",
    "\n",
    "    ts = list(hist_complete | hist_ongoing)\n",
    "    ts.sort()\n",
    "\n",
    "    at_risk = len(complete) + len(ongoing)\n",
    "\n",
    "    lams = pd.Series(index=ts, dtype=float)\n",
    "    for t in ts:\n",
    "        ended = hist_complete[t]\n",
    "        censored = hist_ongoing[t]\n",
    "\n",
    "        lams[t] = ended / at_risk\n",
    "        if verbose:\n",
    "            print(t, at_risk, ended, censored, lams[t])\n",
    "        at_risk -= ended + censored\n",
    "\n",
    "    return survival.HazardFunction(lams, label=label)"
   ]
  },
  {
   "cell_type": "markdown",
   "metadata": {},
   "source": [
    "Here is the hazard function and corresponding survival function. "
   ]
  },
  {
   "cell_type": "code",
   "execution_count": 58,
   "metadata": {},
   "outputs": [
    {
     "data": {
      "image/png": "[encoded data removed]",
      "text/plain": [
       "<Figure size 432x288 with 1 Axes>"
      ]
     },
     "metadata": {
      "needs_background": "light"
     },
     "output_type": "display_data"
    },
    {
     "data": {
      "application/javascript": [
       "\n",
       "            setTimeout(function() {\n",
       "                var nbb_cell_id = 58;\n",
       "                var nbb_unformatted_code = \"hf = EstimateHazardFunction(complete, ongoing)\\nthinkplot.Plot(hf)\\nthinkplot.Config(xlabel='Age (years)',\\n                 ylabel='Hazard')\";\n",
       "                var nbb_formatted_code = \"hf = EstimateHazardFunction(complete, ongoing)\\nthinkplot.Plot(hf)\\nthinkplot.Config(xlabel=\\\"Age (years)\\\", ylabel=\\\"Hazard\\\")\";\n",
       "                var nbb_cells = Jupyter.notebook.get_cells();\n",
       "                for (var i = 0; i < nbb_cells.length; ++i) {\n",
       "                    if (nbb_cells[i].input_prompt_number == nbb_cell_id) {\n",
       "                        if (nbb_cells[i].get_text() == nbb_unformatted_code) {\n",
       "                             nbb_cells[i].set_text(nbb_formatted_code);\n",
       "                        }\n",
       "                        break;\n",
       "                    }\n",
       "                }\n",
       "            }, 500);\n",
       "            "
      ],
      "text/plain": [
       "<IPython.core.display.Javascript object>"
      ]
     },
     "metadata": {},
     "output_type": "display_data"
    }
   ],
   "source": [
    "hf = EstimateHazardFunction(complete, ongoing)\n",
    "thinkplot.Plot(hf)\n",
    "thinkplot.Config(xlabel=\"Age (years)\", ylabel=\"Hazard\")"
   ]
  },
  {
   "cell_type": "code",
   "execution_count": 59,
   "metadata": {},
   "outputs": [
    {
     "data": {
      "image/png": "[encoded data removed]",
      "text/plain": [
       "<Figure size 432x288 with 1 Axes>"
      ]
     },
     "metadata": {
      "needs_background": "light"
     },
     "output_type": "display_data"
    },
    {
     "data": {
      "application/javascript": [
       "\n",
       "            setTimeout(function() {\n",
       "                var nbb_cell_id = 59;\n",
       "                var nbb_unformatted_code = \"sf = hf.MakeSurvival()\\nthinkplot.Plot(sf)\\nthinkplot.Config(xlabel='Age (years)',\\n                 ylabel='Prob unmarried',\\n                 ylim=[0, 1])\";\n",
       "                var nbb_formatted_code = \"sf = hf.MakeSurvival()\\nthinkplot.Plot(sf)\\nthinkplot.Config(xlabel=\\\"Age (years)\\\", ylabel=\\\"Prob unmarried\\\", ylim=[0, 1])\";\n",
       "                var nbb_cells = Jupyter.notebook.get_cells();\n",
       "                for (var i = 0; i < nbb_cells.length; ++i) {\n",
       "                    if (nbb_cells[i].input_prompt_number == nbb_cell_id) {\n",
       "                        if (nbb_cells[i].get_text() == nbb_unformatted_code) {\n",
       "                             nbb_cells[i].set_text(nbb_formatted_code);\n",
       "                        }\n",
       "                        break;\n",
       "                    }\n",
       "                }\n",
       "            }, 500);\n",
       "            "
      ],
      "text/plain": [
       "<IPython.core.display.Javascript object>"
      ]
     },
     "metadata": {},
     "output_type": "display_data"
    }
   ],
   "source": [
    "sf = hf.MakeSurvival()\n",
    "thinkplot.Plot(sf)\n",
    "thinkplot.Config(xlabel=\"Age (years)\", ylabel=\"Prob unmarried\", ylim=[0, 1])"
   ]
  },
  {
   "cell_type": "markdown",
   "metadata": {},
   "source": [
    "## Quantifying uncertainty\n",
    "\n",
    "To see how much the results depend on random sampling, we'll use a resampling process again."
   ]
  },
  {
   "cell_type": "code",
   "execution_count": 60,
   "metadata": {},
   "outputs": [
    {
     "data": {
      "application/javascript": [
       "\n",
       "            setTimeout(function() {\n",
       "                var nbb_cell_id = 60;\n",
       "                var nbb_unformatted_code = \"def EstimateMarriageSurvival(resp):\\n    \\\"\\\"\\\"Estimates the survival curve.\\n\\n    resp: DataFrame of respondents\\n\\n    returns: pair of HazardFunction, SurvivalFunction\\n    \\\"\\\"\\\"\\n    # NOTE: Filling missing values would be better than dropping them.\\n    complete = resp[resp.evrmarry == 1].agemarry.dropna()\\n    ongoing = resp[resp.evrmarry == 0].age\\n\\n    hf = EstimateHazardFunction(complete, ongoing)\\n    sf = hf.MakeSurvival()\\n\\n    return hf, sf\";\n",
       "                var nbb_formatted_code = \"def EstimateMarriageSurvival(resp):\\n    \\\"\\\"\\\"Estimates the survival curve.\\n\\n    resp: DataFrame of respondents\\n\\n    returns: pair of HazardFunction, SurvivalFunction\\n    \\\"\\\"\\\"\\n    # NOTE: Filling missing values would be better than dropping them.\\n    complete = resp[resp.evrmarry == 1].agemarry.dropna()\\n    ongoing = resp[resp.evrmarry == 0].age\\n\\n    hf = EstimateHazardFunction(complete, ongoing)\\n    sf = hf.MakeSurvival()\\n\\n    return hf, sf\";\n",
       "                var nbb_cells = Jupyter.notebook.get_cells();\n",
       "                for (var i = 0; i < nbb_cells.length; ++i) {\n",
       "                    if (nbb_cells[i].input_prompt_number == nbb_cell_id) {\n",
       "                        if (nbb_cells[i].get_text() == nbb_unformatted_code) {\n",
       "                             nbb_cells[i].set_text(nbb_formatted_code);\n",
       "                        }\n",
       "                        break;\n",
       "                    }\n",
       "                }\n",
       "            }, 500);\n",
       "            "
      ],
      "text/plain": [
       "<IPython.core.display.Javascript object>"
      ]
     },
     "metadata": {},
     "output_type": "display_data"
    }
   ],
   "source": [
    "def EstimateMarriageSurvival(resp):\n",
    "    \"\"\"Estimates the survival curve.\n",
    "\n",
    "    resp: DataFrame of respondents\n",
    "\n",
    "    returns: pair of HazardFunction, SurvivalFunction\n",
    "    \"\"\"\n",
    "    # NOTE: Filling missing values would be better than dropping them.\n",
    "    complete = resp[resp.evrmarry == 1].agemarry.dropna()\n",
    "    ongoing = resp[resp.evrmarry == 0].age\n",
    "\n",
    "    hf = EstimateHazardFunction(complete, ongoing)\n",
    "    sf = hf.MakeSurvival()\n",
    "\n",
    "    return hf, sf"
   ]
  },
  {
   "cell_type": "code",
   "execution_count": 61,
   "metadata": {},
   "outputs": [
    {
     "data": {
      "application/javascript": [
       "\n",
       "            setTimeout(function() {\n",
       "                var nbb_cell_id = 61;\n",
       "                var nbb_unformatted_code = \"def ResampleSurvival(resp, iters=101):\\n    \\\"\\\"\\\"Resamples respondents and estimates the survival function.\\n\\n    resp: DataFrame of respondents\\n    iters: number of resamples\\n    \\\"\\\"\\\" \\n    _, sf = EstimateMarriageSurvival(resp)\\n    thinkplot.Plot(sf)\\n\\n    low, high = resp.agemarry.min(), resp.agemarry.max()\\n    ts = np.arange(low, high, 1/12.0)\\n\\n    ss_seq = []\\n    for _ in range(iters):\\n        sample = thinkstats2.ResampleRowsWeighted(resp)\\n        _, sf = EstimateMarriageSurvival(sample)\\n        ss_seq.append(sf.Probs(ts))\\n\\n    low, high = thinkstats2.PercentileRows(ss_seq, [5, 95])\\n    thinkplot.FillBetween(ts, low, high, color='gray', label='90% CI')\";\n",
       "                var nbb_formatted_code = \"def ResampleSurvival(resp, iters=101):\\n    \\\"\\\"\\\"Resamples respondents and estimates the survival function.\\n\\n    resp: DataFrame of respondents\\n    iters: number of resamples\\n    \\\"\\\"\\\"\\n    _, sf = EstimateMarriageSurvival(resp)\\n    thinkplot.Plot(sf)\\n\\n    low, high = resp.agemarry.min(), resp.agemarry.max()\\n    ts = np.arange(low, high, 1 / 12.0)\\n\\n    ss_seq = []\\n    for _ in range(iters):\\n        sample = thinkstats2.ResampleRowsWeighted(resp)\\n        _, sf = EstimateMarriageSurvival(sample)\\n        ss_seq.append(sf.Probs(ts))\\n\\n    low, high = thinkstats2.PercentileRows(ss_seq, [5, 95])\\n    thinkplot.FillBetween(ts, low, high, color=\\\"gray\\\", label=\\\"90% CI\\\")\";\n",
       "                var nbb_cells = Jupyter.notebook.get_cells();\n",
       "                for (var i = 0; i < nbb_cells.length; ++i) {\n",
       "                    if (nbb_cells[i].input_prompt_number == nbb_cell_id) {\n",
       "                        if (nbb_cells[i].get_text() == nbb_unformatted_code) {\n",
       "                             nbb_cells[i].set_text(nbb_formatted_code);\n",
       "                        }\n",
       "                        break;\n",
       "                    }\n",
       "                }\n",
       "            }, 500);\n",
       "            "
      ],
      "text/plain": [
       "<IPython.core.display.Javascript object>"
      ]
     },
     "metadata": {},
     "output_type": "display_data"
    }
   ],
   "source": [
    "def ResampleSurvival(resp, iters=101):\n",
    "    \"\"\"Resamples respondents and estimates the survival function.\n",
    "\n",
    "    resp: DataFrame of respondents\n",
    "    iters: number of resamples\n",
    "    \"\"\"\n",
    "    _, sf = EstimateMarriageSurvival(resp)\n",
    "    thinkplot.Plot(sf)\n",
    "\n",
    "    low, high = resp.agemarry.min(), resp.agemarry.max()\n",
    "    ts = np.arange(low, high, 1 / 12.0)\n",
    "\n",
    "    ss_seq = []\n",
    "    for _ in range(iters):\n",
    "        sample = thinkstats2.ResampleRowsWeighted(resp)\n",
    "        _, sf = EstimateMarriageSurvival(sample)\n",
    "        ss_seq.append(sf.Probs(ts))\n",
    "\n",
    "    low, high = thinkstats2.PercentileRows(ss_seq, [5, 95])\n",
    "    thinkplot.FillBetween(ts, low, high, color=\"gray\", label=\"90% CI\")"
   ]
  },
  {
   "cell_type": "markdown",
   "metadata": {},
   "source": [
    "The following plot shows the survival function based on the raw data and a 90% CI based on resampling."
   ]
  },
  {
   "cell_type": "code",
   "execution_count": 62,
   "metadata": {},
   "outputs": [
    {
     "data": {
      "image/png": "[encoded data removed]",
      "text/plain": [
       "<Figure size 432x288 with 1 Axes>"
      ]
     },
     "metadata": {
      "needs_background": "light"
     },
     "output_type": "display_data"
    },
    {
     "data": {
      "application/javascript": [
       "\n",
       "            setTimeout(function() {\n",
       "                var nbb_cell_id = 62;\n",
       "                var nbb_unformatted_code = \"ResampleSurvival(resp6)\\nthinkplot.Config(xlabel='Age (years)',\\n                 ylabel='Prob unmarried',\\n                 xlim=[12, 46],\\n                 ylim=[0, 1],\\n                 loc='upper right')\";\n",
       "                var nbb_formatted_code = \"ResampleSurvival(resp6)\\nthinkplot.Config(\\n    xlabel=\\\"Age (years)\\\",\\n    ylabel=\\\"Prob unmarried\\\",\\n    xlim=[12, 46],\\n    ylim=[0, 1],\\n    loc=\\\"upper right\\\",\\n)\";\n",
       "                var nbb_cells = Jupyter.notebook.get_cells();\n",
       "                for (var i = 0; i < nbb_cells.length; ++i) {\n",
       "                    if (nbb_cells[i].input_prompt_number == nbb_cell_id) {\n",
       "                        if (nbb_cells[i].get_text() == nbb_unformatted_code) {\n",
       "                             nbb_cells[i].set_text(nbb_formatted_code);\n",
       "                        }\n",
       "                        break;\n",
       "                    }\n",
       "                }\n",
       "            }, 500);\n",
       "            "
      ],
      "text/plain": [
       "<IPython.core.display.Javascript object>"
      ]
     },
     "metadata": {},
     "output_type": "display_data"
    }
   ],
   "source": [
    "ResampleSurvival(resp6)\n",
    "thinkplot.Config(\n",
    "    xlabel=\"Age (years)\",\n",
    "    ylabel=\"Prob unmarried\",\n",
    "    xlim=[12, 46],\n",
    "    ylim=[0, 1],\n",
    "    loc=\"upper right\",\n",
    ")"
   ]
  },
  {
   "cell_type": "markdown",
   "metadata": {},
   "source": [
    "The SF based on the raw data falls outside the 90% CI because the CI is based on weighted resampling, and the raw data is not.  You can confirm that by replacing `ResampleRowsWeighted` with `ResampleRows` in `ResampleSurvival`."
   ]
  },
  {
   "cell_type": "markdown",
   "metadata": {},
   "source": [
    "## More data\n",
    "\n",
    "To generate survivial curves for each birth cohort, we need more data, which we can get by combining data from several NSFG cycles."
   ]
  },
  {
   "cell_type": "code",
   "execution_count": 71,
   "metadata": {},
   "outputs": [
    {
     "name": "stdout",
     "output_type": "stream",
     "text": [
      "Downloaded 2006_2010_FemResp.dat.gz\n"
     ]
    },
    {
     "data": {
      "application/javascript": [
       "\n",
       "            setTimeout(function() {\n",
       "                var nbb_cell_id = 71;\n",
       "                var nbb_unformatted_code = \"download(\\n    \\\"https://github.com/AllenDowney/ThinkStats2/raw/master/code/1995FemRespData.dat.gz\\\"\\n)\\ndownload(\\n    \\\"https://github.com/AllenDowney/ThinkStats2/raw/master/code/2006_2010_FemRespSetup.dct\\\"\\n)\\ndownload(\\n    \\\"https://github.com/AllenDowney/ThinkStats2/raw/master/code/2006_2010_FemResp.dat.gz\\\"\\n)\";\n",
       "                var nbb_formatted_code = \"download(\\n    \\\"https://github.com/AllenDowney/ThinkStats2/raw/master/code/1995FemRespData.dat.gz\\\"\\n)\\ndownload(\\n    \\\"https://github.com/AllenDowney/ThinkStats2/raw/master/code/2006_2010_FemRespSetup.dct\\\"\\n)\\ndownload(\\n    \\\"https://github.com/AllenDowney/ThinkStats2/raw/master/code/2006_2010_FemResp.dat.gz\\\"\\n)\";\n",
       "                var nbb_cells = Jupyter.notebook.get_cells();\n",
       "                for (var i = 0; i < nbb_cells.length; ++i) {\n",
       "                    if (nbb_cells[i].input_prompt_number == nbb_cell_id) {\n",
       "                        if (nbb_cells[i].get_text() == nbb_unformatted_code) {\n",
       "                             nbb_cells[i].set_text(nbb_formatted_code);\n",
       "                        }\n",
       "                        break;\n",
       "                    }\n",
       "                }\n",
       "            }, 500);\n",
       "            "
      ],
      "text/plain": [
       "<IPython.core.display.Javascript object>"
      ]
     },
     "metadata": {},
     "output_type": "display_data"
    }
   ],
   "source": [
    "download(\n",
    "    \"https://github.com/AllenDowney/ThinkStats2/raw/master/code/1995FemRespData.dat.gz\"\n",
    ")\n",
    "download(\n",
    "    \"https://github.com/AllenDowney/ThinkStats2/raw/master/code/2006_2010_FemRespSetup.dct\"\n",
    ")\n",
    "download(\n",
    "    \"https://github.com/AllenDowney/ThinkStats2/raw/master/code/2006_2010_FemResp.dat.gz\"\n",
    ")"
   ]
  },
  {
   "cell_type": "code",
   "execution_count": 72,
   "metadata": {},
   "outputs": [
    {
     "data": {
      "application/javascript": [
       "\n",
       "            setTimeout(function() {\n",
       "                var nbb_cell_id = 72;\n",
       "                var nbb_unformatted_code = \"resp5 = survival.ReadFemResp1995()\\nresp6 = survival.ReadFemResp2002()\\nresp7 = survival.ReadFemResp2010()\";\n",
       "                var nbb_formatted_code = \"resp5 = survival.ReadFemResp1995()\\nresp6 = survival.ReadFemResp2002()\\nresp7 = survival.ReadFemResp2010()\";\n",
       "                var nbb_cells = Jupyter.notebook.get_cells();\n",
       "                for (var i = 0; i < nbb_cells.length; ++i) {\n",
       "                    if (nbb_cells[i].input_prompt_number == nbb_cell_id) {\n",
       "                        if (nbb_cells[i].get_text() == nbb_unformatted_code) {\n",
       "                             nbb_cells[i].set_text(nbb_formatted_code);\n",
       "                        }\n",
       "                        break;\n",
       "                    }\n",
       "                }\n",
       "            }, 500);\n",
       "            "
      ],
      "text/plain": [
       "<IPython.core.display.Javascript object>"
      ]
     },
     "metadata": {},
     "output_type": "display_data"
    }
   ],
   "source": [
    "resp5 = survival.ReadFemResp1995()\n",
    "resp6 = survival.ReadFemResp2002()\n",
    "resp7 = survival.ReadFemResp2010()"
   ]
  },
  {
   "cell_type": "code",
   "execution_count": 73,
   "metadata": {},
   "outputs": [
    {
     "data": {
      "application/javascript": [
       "\n",
       "            setTimeout(function() {\n",
       "                var nbb_cell_id = 73;\n",
       "                var nbb_unformatted_code = \"resps = [resp5, resp6, resp7]\";\n",
       "                var nbb_formatted_code = \"resps = [resp5, resp6, resp7]\";\n",
       "                var nbb_cells = Jupyter.notebook.get_cells();\n",
       "                for (var i = 0; i < nbb_cells.length; ++i) {\n",
       "                    if (nbb_cells[i].input_prompt_number == nbb_cell_id) {\n",
       "                        if (nbb_cells[i].get_text() == nbb_unformatted_code) {\n",
       "                             nbb_cells[i].set_text(nbb_formatted_code);\n",
       "                        }\n",
       "                        break;\n",
       "                    }\n",
       "                }\n",
       "            }, 500);\n",
       "            "
      ],
      "text/plain": [
       "<IPython.core.display.Javascript object>"
      ]
     },
     "metadata": {},
     "output_type": "display_data"
    }
   ],
   "source": [
    "resps = [resp5, resp6, resp7]"
   ]
  },
  {
   "cell_type": "markdown",
   "metadata": {},
   "source": [
    "The following is the code from `survival.py` that generates SFs broken down by decade of birth."
   ]
  },
  {
   "cell_type": "code",
   "execution_count": 74,
   "metadata": {},
   "outputs": [
    {
     "data": {
      "application/javascript": [
       "\n",
       "            setTimeout(function() {\n",
       "                var nbb_cell_id = 74;\n",
       "                var nbb_unformatted_code = \"def AddLabelsByDecade(groups, **options):\\n    \\\"\\\"\\\"Draws fake points in order to add labels to the legend.\\n\\n    groups: GroupBy object\\n    \\\"\\\"\\\"\\n    thinkplot.PrePlot(len(groups))\\n    for name, _ in groups:\\n        label = '%d0s' % name\\n        thinkplot.Plot([15], [1], label=label, **options)\\n\\ndef EstimateMarriageSurvivalByDecade(groups, **options):\\n    \\\"\\\"\\\"Groups respondents by decade and plots survival curves.\\n\\n    groups: GroupBy object\\n    \\\"\\\"\\\"\\n    thinkplot.PrePlot(len(groups))\\n    for _, group in groups:\\n        _, sf = EstimateMarriageSurvival(group)\\n        thinkplot.Plot(sf, **options)\\n\\ndef PlotResampledByDecade(resps, iters=11, predict_flag=False, omit=None):\\n    \\\"\\\"\\\"Plots survival curves for resampled data.\\n\\n    resps: list of DataFrames\\n    iters: number of resamples to plot\\n    predict_flag: whether to also plot predictions\\n    \\\"\\\"\\\"\\n    for i in range(iters):\\n        samples = [thinkstats2.ResampleRowsWeighted(resp) \\n                   for resp in resps]\\n        sample = pd.concat(samples, ignore_index=True)\\n        groups = sample.groupby('decade')\\n\\n        if omit:\\n            groups = [(name, group) for name, group in groups \\n                      if name not in omit]\\n\\n        # TODO: refactor this to collect resampled estimates and\\n        # plot shaded areas\\n        if i == 0:\\n            AddLabelsByDecade(groups, alpha=0.7)\\n\\n        if predict_flag:\\n            PlotPredictionsByDecade(groups, alpha=0.1)\\n            EstimateMarriageSurvivalByDecade(groups, alpha=0.1)\\n        else:\\n            EstimateMarriageSurvivalByDecade(groups, alpha=0.2)\";\n",
       "                var nbb_formatted_code = \"def AddLabelsByDecade(groups, **options):\\n    \\\"\\\"\\\"Draws fake points in order to add labels to the legend.\\n\\n    groups: GroupBy object\\n    \\\"\\\"\\\"\\n    thinkplot.PrePlot(len(groups))\\n    for name, _ in groups:\\n        label = \\\"%d0s\\\" % name\\n        thinkplot.Plot([15], [1], label=label, **options)\\n\\n\\ndef EstimateMarriageSurvivalByDecade(groups, **options):\\n    \\\"\\\"\\\"Groups respondents by decade and plots survival curves.\\n\\n    groups: GroupBy object\\n    \\\"\\\"\\\"\\n    thinkplot.PrePlot(len(groups))\\n    for _, group in groups:\\n        _, sf = EstimateMarriageSurvival(group)\\n        thinkplot.Plot(sf, **options)\\n\\n\\ndef PlotResampledByDecade(resps, iters=11, predict_flag=False, omit=None):\\n    \\\"\\\"\\\"Plots survival curves for resampled data.\\n\\n    resps: list of DataFrames\\n    iters: number of resamples to plot\\n    predict_flag: whether to also plot predictions\\n    \\\"\\\"\\\"\\n    for i in range(iters):\\n        samples = [thinkstats2.ResampleRowsWeighted(resp) for resp in resps]\\n        sample = pd.concat(samples, ignore_index=True)\\n        groups = sample.groupby(\\\"decade\\\")\\n\\n        if omit:\\n            groups = [(name, group) for name, group in groups if name not in omit]\\n\\n        # TODO: refactor this to collect resampled estimates and\\n        # plot shaded areas\\n        if i == 0:\\n            AddLabelsByDecade(groups, alpha=0.7)\\n\\n        if predict_flag:\\n            PlotPredictionsByDecade(groups, alpha=0.1)\\n            EstimateMarriageSurvivalByDecade(groups, alpha=0.1)\\n        else:\\n            EstimateMarriageSurvivalByDecade(groups, alpha=0.2)\";\n",
       "                var nbb_cells = Jupyter.notebook.get_cells();\n",
       "                for (var i = 0; i < nbb_cells.length; ++i) {\n",
       "                    if (nbb_cells[i].input_prompt_number == nbb_cell_id) {\n",
       "                        if (nbb_cells[i].get_text() == nbb_unformatted_code) {\n",
       "                             nbb_cells[i].set_text(nbb_formatted_code);\n",
       "                        }\n",
       "                        break;\n",
       "                    }\n",
       "                }\n",
       "            }, 500);\n",
       "            "
      ],
      "text/plain": [
       "<IPython.core.display.Javascript object>"
      ]
     },
     "metadata": {},
     "output_type": "display_data"
    }
   ],
   "source": [
    "def AddLabelsByDecade(groups, **options):\n",
    "    \"\"\"Draws fake points in order to add labels to the legend.\n",
    "\n",
    "    groups: GroupBy object\n",
    "    \"\"\"\n",
    "    thinkplot.PrePlot(len(groups))\n",
    "    for name, _ in groups:\n",
    "        label = \"%d0s\" % name\n",
    "        thinkplot.Plot([15], [1], label=label, **options)\n",
    "\n",
    "\n",
    "def EstimateMarriageSurvivalByDecade(groups, **options):\n",
    "    \"\"\"Groups respondents by decade and plots survival curves.\n",
    "\n",
    "    groups: GroupBy object\n",
    "    \"\"\"\n",
    "    thinkplot.PrePlot(len(groups))\n",
    "    for _, group in groups:\n",
    "        _, sf = EstimateMarriageSurvival(group)\n",
    "        thinkplot.Plot(sf, **options)\n",
    "\n",
    "\n",
    "def PlotResampledByDecade(resps, iters=11, predict_flag=False, omit=None):\n",
    "    \"\"\"Plots survival curves for resampled data.\n",
    "\n",
    "    resps: list of DataFrames\n",
    "    iters: number of resamples to plot\n",
    "    predict_flag: whether to also plot predictions\n",
    "    \"\"\"\n",
    "    for i in range(iters):\n",
    "        samples = [thinkstats2.ResampleRowsWeighted(resp) for resp in resps]\n",
    "        sample = pd.concat(samples, ignore_index=True)\n",
    "        groups = sample.groupby(\"decade\")\n",
    "\n",
    "        if omit:\n",
    "            groups = [(name, group) for name, group in groups if name not in omit]\n",
    "\n",
    "        # TODO: refactor this to collect resampled estimates and\n",
    "        # plot shaded areas\n",
    "        if i == 0:\n",
    "            AddLabelsByDecade(groups, alpha=0.7)\n",
    "\n",
    "        if predict_flag:\n",
    "            PlotPredictionsByDecade(groups, alpha=0.1)\n",
    "            EstimateMarriageSurvivalByDecade(groups, alpha=0.1)\n",
    "        else:\n",
    "            EstimateMarriageSurvivalByDecade(groups, alpha=0.2)"
   ]
  },
  {
   "cell_type": "markdown",
   "metadata": {},
   "source": [
    "Here are the results for the combined data."
   ]
  },
  {
   "cell_type": "code",
   "execution_count": 75,
   "metadata": {},
   "outputs": [
    {
     "data": {
      "image/png": "[encoded data removed]",
      "text/plain": [
       "<Figure size 432x288 with 1 Axes>"
      ]
     },
     "metadata": {
      "needs_background": "light"
     },
     "output_type": "display_data"
    },
    {
     "data": {
      "application/javascript": [
       "\n",
       "            setTimeout(function() {\n",
       "                var nbb_cell_id = 75;\n",
       "                var nbb_unformatted_code = \"PlotResampledByDecade(resps)\\nthinkplot.Config(xlabel='Age (years)',\\n                   ylabel='Prob unmarried',\\n                   xlim=[13, 45],\\n                   ylim=[0, 1])\";\n",
       "                var nbb_formatted_code = \"PlotResampledByDecade(resps)\\nthinkplot.Config(\\n    xlabel=\\\"Age (years)\\\", ylabel=\\\"Prob unmarried\\\", xlim=[13, 45], ylim=[0, 1]\\n)\";\n",
       "                var nbb_cells = Jupyter.notebook.get_cells();\n",
       "                for (var i = 0; i < nbb_cells.length; ++i) {\n",
       "                    if (nbb_cells[i].input_prompt_number == nbb_cell_id) {\n",
       "                        if (nbb_cells[i].get_text() == nbb_unformatted_code) {\n",
       "                             nbb_cells[i].set_text(nbb_formatted_code);\n",
       "                        }\n",
       "                        break;\n",
       "                    }\n",
       "                }\n",
       "            }, 500);\n",
       "            "
      ],
      "text/plain": [
       "<IPython.core.display.Javascript object>"
      ]
     },
     "metadata": {},
     "output_type": "display_data"
    }
   ],
   "source": [
    "PlotResampledByDecade(resps)\n",
    "thinkplot.Config(\n",
    "    xlabel=\"Age (years)\", ylabel=\"Prob unmarried\", xlim=[13, 45], ylim=[0, 1]\n",
    ")"
   ]
  },
  {
   "cell_type": "markdown",
   "metadata": {},
   "source": [
    "We can generate predictions by assuming that the hazard function of each generation will be the same as for the previous generation."
   ]
  },
  {
   "cell_type": "code",
   "execution_count": 76,
   "metadata": {},
   "outputs": [
    {
     "data": {
      "application/javascript": [
       "\n",
       "            setTimeout(function() {\n",
       "                var nbb_cell_id = 76;\n",
       "                var nbb_unformatted_code = \"def PlotPredictionsByDecade(groups, **options):\\n    \\\"\\\"\\\"Groups respondents by decade and plots survival curves.\\n\\n    groups: GroupBy object\\n    \\\"\\\"\\\"\\n    hfs = []\\n    for _, group in groups:\\n        hf, sf = EstimateMarriageSurvival(group)\\n        hfs.append(hf)\\n\\n    thinkplot.PrePlot(len(hfs))\\n    for i, hf in enumerate(hfs):\\n        if i > 0:\\n            hf.Extend(hfs[i-1])\\n        sf = hf.MakeSurvival()\\n        thinkplot.Plot(sf, **options)\";\n",
       "                var nbb_formatted_code = \"def PlotPredictionsByDecade(groups, **options):\\n    \\\"\\\"\\\"Groups respondents by decade and plots survival curves.\\n\\n    groups: GroupBy object\\n    \\\"\\\"\\\"\\n    hfs = []\\n    for _, group in groups:\\n        hf, sf = EstimateMarriageSurvival(group)\\n        hfs.append(hf)\\n\\n    thinkplot.PrePlot(len(hfs))\\n    for i, hf in enumerate(hfs):\\n        if i > 0:\\n            hf.Extend(hfs[i - 1])\\n        sf = hf.MakeSurvival()\\n        thinkplot.Plot(sf, **options)\";\n",
       "                var nbb_cells = Jupyter.notebook.get_cells();\n",
       "                for (var i = 0; i < nbb_cells.length; ++i) {\n",
       "                    if (nbb_cells[i].input_prompt_number == nbb_cell_id) {\n",
       "                        if (nbb_cells[i].get_text() == nbb_unformatted_code) {\n",
       "                             nbb_cells[i].set_text(nbb_formatted_code);\n",
       "                        }\n",
       "                        break;\n",
       "                    }\n",
       "                }\n",
       "            }, 500);\n",
       "            "
      ],
      "text/plain": [
       "<IPython.core.display.Javascript object>"
      ]
     },
     "metadata": {},
     "output_type": "display_data"
    }
   ],
   "source": [
    "def PlotPredictionsByDecade(groups, **options):\n",
    "    \"\"\"Groups respondents by decade and plots survival curves.\n",
    "\n",
    "    groups: GroupBy object\n",
    "    \"\"\"\n",
    "    hfs = []\n",
    "    for _, group in groups:\n",
    "        hf, sf = EstimateMarriageSurvival(group)\n",
    "        hfs.append(hf)\n",
    "\n",
    "    thinkplot.PrePlot(len(hfs))\n",
    "    for i, hf in enumerate(hfs):\n",
    "        if i > 0:\n",
    "            hf.Extend(hfs[i - 1])\n",
    "        sf = hf.MakeSurvival()\n",
    "        thinkplot.Plot(sf, **options)"
   ]
  },
  {
   "cell_type": "markdown",
   "metadata": {},
   "source": [
    "And here's what that looks like."
   ]
  },
  {
   "cell_type": "code",
   "execution_count": 77,
   "metadata": {},
   "outputs": [
    {
     "data": {
      "image/png": "[encoded data removed]",
      "text/plain": [
       "<Figure size 432x288 with 1 Axes>"
      ]
     },
     "metadata": {
      "needs_background": "light"
     },
     "output_type": "display_data"
    },
    {
     "data": {
      "application/javascript": [
       "\n",
       "            setTimeout(function() {\n",
       "                var nbb_cell_id = 77;\n",
       "                var nbb_unformatted_code = \"PlotResampledByDecade(resps, predict_flag=True)\\nthinkplot.Config(\\n    xlabel=\\\"Age (years)\\\", ylabel=\\\"Prob unmarried\\\", xlim=[13, 45], ylim=[0, 1]\\n)\";\n",
       "                var nbb_formatted_code = \"PlotResampledByDecade(resps, predict_flag=True)\\nthinkplot.Config(\\n    xlabel=\\\"Age (years)\\\", ylabel=\\\"Prob unmarried\\\", xlim=[13, 45], ylim=[0, 1]\\n)\";\n",
       "                var nbb_cells = Jupyter.notebook.get_cells();\n",
       "                for (var i = 0; i < nbb_cells.length; ++i) {\n",
       "                    if (nbb_cells[i].input_prompt_number == nbb_cell_id) {\n",
       "                        if (nbb_cells[i].get_text() == nbb_unformatted_code) {\n",
       "                             nbb_cells[i].set_text(nbb_formatted_code);\n",
       "                        }\n",
       "                        break;\n",
       "                    }\n",
       "                }\n",
       "            }, 500);\n",
       "            "
      ],
      "text/plain": [
       "<IPython.core.display.Javascript object>"
      ]
     },
     "metadata": {},
     "output_type": "display_data"
    }
   ],
   "source": [
    "PlotResampledByDecade(resps, predict_flag=True)\n",
    "thinkplot.Config(\n",
    "    xlabel=\"Age (years)\", ylabel=\"Prob unmarried\", xlim=[13, 45], ylim=[0, 1]\n",
    ")"
   ]
  },
  {
   "cell_type": "markdown",
   "metadata": {},
   "source": [
    "## Remaining lifetime\n",
    "\n",
    "Distributions with difference shapes yield different behavior for remaining lifetime as a function of age."
   ]
  },
  {
   "cell_type": "code",
   "execution_count": 78,
   "metadata": {},
   "outputs": [
    {
     "name": "stdout",
     "output_type": "stream",
     "text": [
      "Number of complete pregnancies 11189\n",
      "Number of ongoing pregnancies 352\n"
     ]
    },
    {
     "data": {
      "application/javascript": [
       "\n",
       "            setTimeout(function() {\n",
       "                var nbb_cell_id = 78;\n",
       "                var nbb_unformatted_code = \"preg = nsfg.ReadFemPreg()\\n\\ncomplete = preg.query('outcome in [1, 3, 4]').prglngth\\nprint('Number of complete pregnancies', len(complete))\\nongoing = preg[preg.outcome == 6].prglngth\\nprint('Number of ongoing pregnancies', len(ongoing))\\n\\nhf = EstimateHazardFunction(complete, ongoing)\\nsf1 = hf.MakeSurvival()\";\n",
       "                var nbb_formatted_code = \"preg = nsfg.ReadFemPreg()\\n\\ncomplete = preg.query(\\\"outcome in [1, 3, 4]\\\").prglngth\\nprint(\\\"Number of complete pregnancies\\\", len(complete))\\nongoing = preg[preg.outcome == 6].prglngth\\nprint(\\\"Number of ongoing pregnancies\\\", len(ongoing))\\n\\nhf = EstimateHazardFunction(complete, ongoing)\\nsf1 = hf.MakeSurvival()\";\n",
       "                var nbb_cells = Jupyter.notebook.get_cells();\n",
       "                for (var i = 0; i < nbb_cells.length; ++i) {\n",
       "                    if (nbb_cells[i].input_prompt_number == nbb_cell_id) {\n",
       "                        if (nbb_cells[i].get_text() == nbb_unformatted_code) {\n",
       "                             nbb_cells[i].set_text(nbb_formatted_code);\n",
       "                        }\n",
       "                        break;\n",
       "                    }\n",
       "                }\n",
       "            }, 500);\n",
       "            "
      ],
      "text/plain": [
       "<IPython.core.display.Javascript object>"
      ]
     },
     "metadata": {},
     "output_type": "display_data"
    }
   ],
   "source": [
    "preg = nsfg.ReadFemPreg()\n",
    "\n",
    "complete = preg.query(\"outcome in [1, 3, 4]\").prglngth\n",
    "print(\"Number of complete pregnancies\", len(complete))\n",
    "ongoing = preg[preg.outcome == 6].prglngth\n",
    "print(\"Number of ongoing pregnancies\", len(ongoing))\n",
    "\n",
    "hf = EstimateHazardFunction(complete, ongoing)\n",
    "sf1 = hf.MakeSurvival()"
   ]
  },
  {
   "cell_type": "markdown",
   "metadata": {},
   "source": [
    "Here's the expected remaining duration of a pregnancy as a function of the number of weeks elapsed.  After week 36, the process becomes \"memoryless\"."
   ]
  },
  {
   "cell_type": "code",
   "execution_count": 79,
   "metadata": {},
   "outputs": [
    {
     "data": {
      "image/png": "[encoded data removed]",
      "text/plain": [
       "<Figure size 432x288 with 1 Axes>"
      ]
     },
     "metadata": {
      "needs_background": "light"
     },
     "output_type": "display_data"
    },
    {
     "data": {
      "application/javascript": [
       "\n",
       "            setTimeout(function() {\n",
       "                var nbb_cell_id = 79;\n",
       "                var nbb_unformatted_code = \"rem_life1 = sf1.RemainingLifetime()\\nthinkplot.Plot(rem_life1)\\nthinkplot.Config(title='Remaining pregnancy length',\\n                 xlabel='Weeks',\\n                 ylabel='Mean remaining weeks')\";\n",
       "                var nbb_formatted_code = \"rem_life1 = sf1.RemainingLifetime()\\nthinkplot.Plot(rem_life1)\\nthinkplot.Config(\\n    title=\\\"Remaining pregnancy length\\\", xlabel=\\\"Weeks\\\", ylabel=\\\"Mean remaining weeks\\\"\\n)\";\n",
       "                var nbb_cells = Jupyter.notebook.get_cells();\n",
       "                for (var i = 0; i < nbb_cells.length; ++i) {\n",
       "                    if (nbb_cells[i].input_prompt_number == nbb_cell_id) {\n",
       "                        if (nbb_cells[i].get_text() == nbb_unformatted_code) {\n",
       "                             nbb_cells[i].set_text(nbb_formatted_code);\n",
       "                        }\n",
       "                        break;\n",
       "                    }\n",
       "                }\n",
       "            }, 500);\n",
       "            "
      ],
      "text/plain": [
       "<IPython.core.display.Javascript object>"
      ]
     },
     "metadata": {},
     "output_type": "display_data"
    }
   ],
   "source": [
    "rem_life1 = sf1.RemainingLifetime()\n",
    "thinkplot.Plot(rem_life1)\n",
    "thinkplot.Config(\n",
    "    title=\"Remaining pregnancy length\", xlabel=\"Weeks\", ylabel=\"Mean remaining weeks\"\n",
    ")"
   ]
  },
  {
   "cell_type": "markdown",
   "metadata": {},
   "source": [
    "And here's the median remaining time until first marriage as a function of age."
   ]
  },
  {
   "cell_type": "code",
   "execution_count": 80,
   "metadata": {},
   "outputs": [
    {
     "data": {
      "application/javascript": [
       "\n",
       "            setTimeout(function() {\n",
       "                var nbb_cell_id = 80;\n",
       "                var nbb_unformatted_code = \"hf, sf2 = EstimateMarriageSurvival(resp6)\";\n",
       "                var nbb_formatted_code = \"hf, sf2 = EstimateMarriageSurvival(resp6)\";\n",
       "                var nbb_cells = Jupyter.notebook.get_cells();\n",
       "                for (var i = 0; i < nbb_cells.length; ++i) {\n",
       "                    if (nbb_cells[i].input_prompt_number == nbb_cell_id) {\n",
       "                        if (nbb_cells[i].get_text() == nbb_unformatted_code) {\n",
       "                             nbb_cells[i].set_text(nbb_formatted_code);\n",
       "                        }\n",
       "                        break;\n",
       "                    }\n",
       "                }\n",
       "            }, 500);\n",
       "            "
      ],
      "text/plain": [
       "<IPython.core.display.Javascript object>"
      ]
     },
     "metadata": {},
     "output_type": "display_data"
    }
   ],
   "source": [
    "hf, sf2 = EstimateMarriageSurvival(resp6)"
   ]
  },
  {
   "cell_type": "code",
   "execution_count": 81,
   "metadata": {},
   "outputs": [
    {
     "data": {
      "image/png": "[encoded data removed]",
      "text/plain": [
       "<Figure size 432x288 with 1 Axes>"
      ]
     },
     "metadata": {
      "needs_background": "light"
     },
     "output_type": "display_data"
    },
    {
     "data": {
      "application/javascript": [
       "\n",
       "            setTimeout(function() {\n",
       "                var nbb_cell_id = 81;\n",
       "                var nbb_unformatted_code = \"func = lambda pmf: pmf.Percentile(50)\\nrem_life2 = sf2.RemainingLifetime(filler=np.inf, func=func)\\n    \\nthinkplot.Plot(rem_life2)\\nthinkplot.Config(title='Years until first marriage',\\n                 ylim=[0, 15],\\n                 xlim=[11, 31],\\n                 xlabel='Age (years)',\\n                 ylabel='Median remaining years')\";\n",
       "                var nbb_formatted_code = \"func = lambda pmf: pmf.Percentile(50)\\nrem_life2 = sf2.RemainingLifetime(filler=np.inf, func=func)\\n\\nthinkplot.Plot(rem_life2)\\nthinkplot.Config(\\n    title=\\\"Years until first marriage\\\",\\n    ylim=[0, 15],\\n    xlim=[11, 31],\\n    xlabel=\\\"Age (years)\\\",\\n    ylabel=\\\"Median remaining years\\\",\\n)\";\n",
       "                var nbb_cells = Jupyter.notebook.get_cells();\n",
       "                for (var i = 0; i < nbb_cells.length; ++i) {\n",
       "                    if (nbb_cells[i].input_prompt_number == nbb_cell_id) {\n",
       "                        if (nbb_cells[i].get_text() == nbb_unformatted_code) {\n",
       "                             nbb_cells[i].set_text(nbb_formatted_code);\n",
       "                        }\n",
       "                        break;\n",
       "                    }\n",
       "                }\n",
       "            }, 500);\n",
       "            "
      ],
      "text/plain": [
       "<IPython.core.display.Javascript object>"
      ]
     },
     "metadata": {},
     "output_type": "display_data"
    }
   ],
   "source": [
    "func = lambda pmf: pmf.Percentile(50)\n",
    "rem_life2 = sf2.RemainingLifetime(filler=np.inf, func=func)\n",
    "\n",
    "thinkplot.Plot(rem_life2)\n",
    "thinkplot.Config(\n",
    "    title=\"Years until first marriage\",\n",
    "    ylim=[0, 15],\n",
    "    xlim=[11, 31],\n",
    "    xlabel=\"Age (years)\",\n",
    "    ylabel=\"Median remaining years\",\n",
    ")"
   ]
  },
  {
   "cell_type": "markdown",
   "metadata": {
    "collapsed": true
   },
   "source": [
    "## Exercises"
   ]
  },
  {
   "cell_type": "markdown",
   "metadata": {
    "collapsed": true
   },
   "source": [
    "**Exercise:**    In NSFG Cycles 6 and 7, the variable `cmdivorcx` contains the date of divorce for the respondent’s first marriage, if applicable, encoded in century-months.\n",
    "\n",
    "Compute the duration of marriages that have ended in divorce, and the duration, so far, of marriages that are ongoing. Estimate the hazard and survival curve for the duration of marriage.\n",
    "\n",
    "Use resampling to take into account sampling weights, and plot data from several resamples to visualize sampling error.\n",
    "\n",
    "Consider dividing the respondents into groups by decade of birth, and possibly by age at first marriage."
   ]
  },
  {
   "cell_type": "code",
   "execution_count": 82,
   "metadata": {},
   "outputs": [
    {
     "data": {
      "application/javascript": [
       "\n",
       "            setTimeout(function() {\n",
       "                var nbb_cell_id = 82;\n",
       "                var nbb_unformatted_code = \"def CleanData(resp):\\n    \\\"\\\"\\\"Cleans respondent data.\\n\\n    resp: DataFrame\\n    \\\"\\\"\\\"\\n    resp.cmdivorcx.replace([9998, 9999], np.nan, inplace=True)\\n\\n    resp['notdivorced'] = resp.cmdivorcx.isnull().astype(int)\\n    resp['duration'] = (resp.cmdivorcx - resp.cmmarrhx) / 12.0\\n    resp['durationsofar'] = (resp.cmintvw - resp.cmmarrhx) / 12.0\\n\\n    month0 = pd.to_datetime('1899-12-15')\\n    dates = [month0 + pd.DateOffset(months=cm) \\n             for cm in resp.cmbirth]\\n    resp['decade'] = (pd.DatetimeIndex(dates).year - 1900) // 10\";\n",
       "                var nbb_formatted_code = \"def CleanData(resp):\\n    \\\"\\\"\\\"Cleans respondent data.\\n\\n    resp: DataFrame\\n    \\\"\\\"\\\"\\n    resp.cmdivorcx.replace([9998, 9999], np.nan, inplace=True)\\n\\n    resp[\\\"notdivorced\\\"] = resp.cmdivorcx.isnull().astype(int)\\n    resp[\\\"duration\\\"] = (resp.cmdivorcx - resp.cmmarrhx) / 12.0\\n    resp[\\\"durationsofar\\\"] = (resp.cmintvw - resp.cmmarrhx) / 12.0\\n\\n    month0 = pd.to_datetime(\\\"1899-12-15\\\")\\n    dates = [month0 + pd.DateOffset(months=cm) for cm in resp.cmbirth]\\n    resp[\\\"decade\\\"] = (pd.DatetimeIndex(dates).year - 1900) // 10\";\n",
       "                var nbb_cells = Jupyter.notebook.get_cells();\n",
       "                for (var i = 0; i < nbb_cells.length; ++i) {\n",
       "                    if (nbb_cells[i].input_prompt_number == nbb_cell_id) {\n",
       "                        if (nbb_cells[i].get_text() == nbb_unformatted_code) {\n",
       "                             nbb_cells[i].set_text(nbb_formatted_code);\n",
       "                        }\n",
       "                        break;\n",
       "                    }\n",
       "                }\n",
       "            }, 500);\n",
       "            "
      ],
      "text/plain": [
       "<IPython.core.display.Javascript object>"
      ]
     },
     "metadata": {},
     "output_type": "display_data"
    }
   ],
   "source": [
    "def CleanData(resp):\n",
    "    \"\"\"Cleans respondent data.\n",
    "\n",
    "    resp: DataFrame\n",
    "    \"\"\"\n",
    "    resp.cmdivorcx.replace([9998, 9999], np.nan, inplace=True)\n",
    "\n",
    "    resp[\"notdivorced\"] = resp.cmdivorcx.isnull().astype(int)\n",
    "    resp[\"duration\"] = (resp.cmdivorcx - resp.cmmarrhx) / 12.0\n",
    "    resp[\"durationsofar\"] = (resp.cmintvw - resp.cmmarrhx) / 12.0\n",
    "\n",
    "    month0 = pd.to_datetime(\"1899-12-15\")\n",
    "    dates = [month0 + pd.DateOffset(months=cm) for cm in resp.cmbirth]\n",
    "    resp[\"decade\"] = (pd.DatetimeIndex(dates).year - 1900) // 10"
   ]
  },
  {
   "cell_type": "code",
   "execution_count": 83,
   "metadata": {},
   "outputs": [
    {
     "data": {
      "application/javascript": [
       "\n",
       "            setTimeout(function() {\n",
       "                var nbb_cell_id = 83;\n",
       "                var nbb_unformatted_code = \"CleanData(resp6)\\nmarried6 = resp6[resp6.evrmarry==1]\\n\\nCleanData(resp7)\\nmarried7 = resp7[resp7.evrmarry==1]\";\n",
       "                var nbb_formatted_code = \"CleanData(resp6)\\nmarried6 = resp6[resp6.evrmarry == 1]\\n\\nCleanData(resp7)\\nmarried7 = resp7[resp7.evrmarry == 1]\";\n",
       "                var nbb_cells = Jupyter.notebook.get_cells();\n",
       "                for (var i = 0; i < nbb_cells.length; ++i) {\n",
       "                    if (nbb_cells[i].input_prompt_number == nbb_cell_id) {\n",
       "                        if (nbb_cells[i].get_text() == nbb_unformatted_code) {\n",
       "                             nbb_cells[i].set_text(nbb_formatted_code);\n",
       "                        }\n",
       "                        break;\n",
       "                    }\n",
       "                }\n",
       "            }, 500);\n",
       "            "
      ],
      "text/plain": [
       "<IPython.core.display.Javascript object>"
      ]
     },
     "metadata": {},
     "output_type": "display_data"
    }
   ],
   "source": [
    "CleanData(resp6)\n",
    "married6 = resp6[resp6.evrmarry == 1]\n",
    "\n",
    "CleanData(resp7)\n",
    "married7 = resp7[resp7.evrmarry == 1]"
   ]
  },
  {
   "cell_type": "code",
   "execution_count": 84,
   "metadata": {},
   "outputs": [
    {
     "data": {
      "application/javascript": [
       "\n",
       "            setTimeout(function() {\n",
       "                var nbb_cell_id = 84;\n",
       "                var nbb_unformatted_code = \"# Solution\\n\\ndef ResampleDivorceCurve(resps):\\n    \\\"\\\"\\\"Plots divorce curves based on resampled data.\\n\\n    resps: list of respondent DataFrames\\n    \\\"\\\"\\\"\\n    for _ in range(11):\\n        samples = [thinkstats2.ResampleRowsWeighted(resp) \\n                   for resp in resps]\\n        sample = pd.concat(samples, ignore_index=True)\\n        PlotDivorceCurveByDecade(sample, color='#225EA8', alpha=0.1)\\n\\n    thinkplot.Show(xlabel='years',\\n                   axis=[0, 28, 0, 1])\";\n",
       "                var nbb_formatted_code = \"# Solution\\n\\n\\ndef ResampleDivorceCurve(resps):\\n    \\\"\\\"\\\"Plots divorce curves based on resampled data.\\n\\n    resps: list of respondent DataFrames\\n    \\\"\\\"\\\"\\n    for _ in range(11):\\n        samples = [thinkstats2.ResampleRowsWeighted(resp) for resp in resps]\\n        sample = pd.concat(samples, ignore_index=True)\\n        PlotDivorceCurveByDecade(sample, color=\\\"#225EA8\\\", alpha=0.1)\\n\\n    thinkplot.Show(xlabel=\\\"years\\\", axis=[0, 28, 0, 1])\";\n",
       "                var nbb_cells = Jupyter.notebook.get_cells();\n",
       "                for (var i = 0; i < nbb_cells.length; ++i) {\n",
       "                    if (nbb_cells[i].input_prompt_number == nbb_cell_id) {\n",
       "                        if (nbb_cells[i].get_text() == nbb_unformatted_code) {\n",
       "                             nbb_cells[i].set_text(nbb_formatted_code);\n",
       "                        }\n",
       "                        break;\n",
       "                    }\n",
       "                }\n",
       "            }, 500);\n",
       "            "
      ],
      "text/plain": [
       "<IPython.core.display.Javascript object>"
      ]
     },
     "metadata": {},
     "output_type": "display_data"
    }
   ],
   "source": [
    "# Solution\n",
    "\n",
    "\n",
    "def ResampleDivorceCurve(resps):\n",
    "    \"\"\"Plots divorce curves based on resampled data.\n",
    "\n",
    "    resps: list of respondent DataFrames\n",
    "    \"\"\"\n",
    "    for _ in range(11):\n",
    "        samples = [thinkstats2.ResampleRowsWeighted(resp) for resp in resps]\n",
    "        sample = pd.concat(samples, ignore_index=True)\n",
    "        PlotDivorceCurveByDecade(sample, color=\"#225EA8\", alpha=0.1)\n",
    "\n",
    "    thinkplot.Show(xlabel=\"years\", axis=[0, 28, 0, 1])"
   ]
  },
  {
   "cell_type": "code",
   "execution_count": 85,
   "metadata": {},
   "outputs": [
    {
     "data": {
      "application/javascript": [
       "\n",
       "            setTimeout(function() {\n",
       "                var nbb_cell_id = 85;\n",
       "                var nbb_unformatted_code = \"# Solution\\n\\ndef ResampleDivorceCurveByDecade(resps):\\n    \\\"\\\"\\\"Plots divorce curves for each birth cohort.\\n\\n    resps: list of respondent DataFrames    \\n    \\\"\\\"\\\"\\n    for i in range(41):\\n        samples = [thinkstats2.ResampleRowsWeighted(resp) \\n                   for resp in resps]\\n        sample = pd.concat(samples, ignore_index=True)\\n        groups = sample.groupby('decade')\\n        if i == 0:\\n            survival.AddLabelsByDecade(groups, alpha=0.7)\\n\\n        EstimateSurvivalByDecade(groups, alpha=0.1)\\n\\n    thinkplot.Config(xlabel='Years',\\n                     ylabel='Fraction undivorced',\\n                     axis=[0, 28, 0, 1])\";\n",
       "                var nbb_formatted_code = \"# Solution\\n\\n\\ndef ResampleDivorceCurveByDecade(resps):\\n    \\\"\\\"\\\"Plots divorce curves for each birth cohort.\\n\\n    resps: list of respondent DataFrames\\n    \\\"\\\"\\\"\\n    for i in range(41):\\n        samples = [thinkstats2.ResampleRowsWeighted(resp) for resp in resps]\\n        sample = pd.concat(samples, ignore_index=True)\\n        groups = sample.groupby(\\\"decade\\\")\\n        if i == 0:\\n            survival.AddLabelsByDecade(groups, alpha=0.7)\\n\\n        EstimateSurvivalByDecade(groups, alpha=0.1)\\n\\n    thinkplot.Config(xlabel=\\\"Years\\\", ylabel=\\\"Fraction undivorced\\\", axis=[0, 28, 0, 1])\";\n",
       "                var nbb_cells = Jupyter.notebook.get_cells();\n",
       "                for (var i = 0; i < nbb_cells.length; ++i) {\n",
       "                    if (nbb_cells[i].input_prompt_number == nbb_cell_id) {\n",
       "                        if (nbb_cells[i].get_text() == nbb_unformatted_code) {\n",
       "                             nbb_cells[i].set_text(nbb_formatted_code);\n",
       "                        }\n",
       "                        break;\n",
       "                    }\n",
       "                }\n",
       "            }, 500);\n",
       "            "
      ],
      "text/plain": [
       "<IPython.core.display.Javascript object>"
      ]
     },
     "metadata": {},
     "output_type": "display_data"
    }
   ],
   "source": [
    "# Solution\n",
    "\n",
    "\n",
    "def ResampleDivorceCurveByDecade(resps):\n",
    "    \"\"\"Plots divorce curves for each birth cohort.\n",
    "\n",
    "    resps: list of respondent DataFrames\n",
    "    \"\"\"\n",
    "    for i in range(41):\n",
    "        samples = [thinkstats2.ResampleRowsWeighted(resp) for resp in resps]\n",
    "        sample = pd.concat(samples, ignore_index=True)\n",
    "        groups = sample.groupby(\"decade\")\n",
    "        if i == 0:\n",
    "            survival.AddLabelsByDecade(groups, alpha=0.7)\n",
    "\n",
    "        EstimateSurvivalByDecade(groups, alpha=0.1)\n",
    "\n",
    "    thinkplot.Config(xlabel=\"Years\", ylabel=\"Fraction undivorced\", axis=[0, 28, 0, 1])"
   ]
  },
  {
   "cell_type": "code",
   "execution_count": 86,
   "metadata": {},
   "outputs": [
    {
     "data": {
      "application/javascript": [
       "\n",
       "            setTimeout(function() {\n",
       "                var nbb_cell_id = 86;\n",
       "                var nbb_unformatted_code = \"# Solution\\n\\ndef EstimateSurvivalByDecade(groups, **options):\\n    \\\"\\\"\\\"Groups respondents by decade and plots survival curves.\\n\\n    groups: GroupBy object\\n    \\\"\\\"\\\"\\n    thinkplot.PrePlot(len(groups))\\n    for name, group in groups:\\n        _, sf = EstimateSurvival(group)\\n        thinkplot.Plot(sf, **options)\";\n",
       "                var nbb_formatted_code = \"# Solution\\n\\n\\ndef EstimateSurvivalByDecade(groups, **options):\\n    \\\"\\\"\\\"Groups respondents by decade and plots survival curves.\\n\\n    groups: GroupBy object\\n    \\\"\\\"\\\"\\n    thinkplot.PrePlot(len(groups))\\n    for name, group in groups:\\n        _, sf = EstimateSurvival(group)\\n        thinkplot.Plot(sf, **options)\";\n",
       "                var nbb_cells = Jupyter.notebook.get_cells();\n",
       "                for (var i = 0; i < nbb_cells.length; ++i) {\n",
       "                    if (nbb_cells[i].input_prompt_number == nbb_cell_id) {\n",
       "                        if (nbb_cells[i].get_text() == nbb_unformatted_code) {\n",
       "                             nbb_cells[i].set_text(nbb_formatted_code);\n",
       "                        }\n",
       "                        break;\n",
       "                    }\n",
       "                }\n",
       "            }, 500);\n",
       "            "
      ],
      "text/plain": [
       "<IPython.core.display.Javascript object>"
      ]
     },
     "metadata": {},
     "output_type": "display_data"
    }
   ],
   "source": [
    "# Solution\n",
    "\n",
    "\n",
    "def EstimateSurvivalByDecade(groups, **options):\n",
    "    \"\"\"Groups respondents by decade and plots survival curves.\n",
    "\n",
    "    groups: GroupBy object\n",
    "    \"\"\"\n",
    "    thinkplot.PrePlot(len(groups))\n",
    "    for name, group in groups:\n",
    "        _, sf = EstimateSurvival(group)\n",
    "        thinkplot.Plot(sf, **options)"
   ]
  },
  {
   "cell_type": "code",
   "execution_count": 87,
   "metadata": {},
   "outputs": [
    {
     "data": {
      "application/javascript": [
       "\n",
       "            setTimeout(function() {\n",
       "                var nbb_cell_id = 87;\n",
       "                var nbb_unformatted_code = \"# Solution\\n\\ndef EstimateSurvival(resp):\\n    \\\"\\\"\\\"Estimates the survival curve.\\n\\n    resp: DataFrame of respondents\\n\\n    returns: pair of HazardFunction, SurvivalFunction\\n    \\\"\\\"\\\"\\n    complete = resp[resp.notdivorced == 0].duration.dropna()\\n    ongoing = resp[resp.notdivorced == 1].durationsofar.dropna()\\n\\n    hf = survival.EstimateHazardFunction(complete, ongoing)\\n    sf = hf.MakeSurvival()\\n\\n    return hf, sf\";\n",
       "                var nbb_formatted_code = \"# Solution\\n\\n\\ndef EstimateSurvival(resp):\\n    \\\"\\\"\\\"Estimates the survival curve.\\n\\n    resp: DataFrame of respondents\\n\\n    returns: pair of HazardFunction, SurvivalFunction\\n    \\\"\\\"\\\"\\n    complete = resp[resp.notdivorced == 0].duration.dropna()\\n    ongoing = resp[resp.notdivorced == 1].durationsofar.dropna()\\n\\n    hf = survival.EstimateHazardFunction(complete, ongoing)\\n    sf = hf.MakeSurvival()\\n\\n    return hf, sf\";\n",
       "                var nbb_cells = Jupyter.notebook.get_cells();\n",
       "                for (var i = 0; i < nbb_cells.length; ++i) {\n",
       "                    if (nbb_cells[i].input_prompt_number == nbb_cell_id) {\n",
       "                        if (nbb_cells[i].get_text() == nbb_unformatted_code) {\n",
       "                             nbb_cells[i].set_text(nbb_formatted_code);\n",
       "                        }\n",
       "                        break;\n",
       "                    }\n",
       "                }\n",
       "            }, 500);\n",
       "            "
      ],
      "text/plain": [
       "<IPython.core.display.Javascript object>"
      ]
     },
     "metadata": {},
     "output_type": "display_data"
    }
   ],
   "source": [
    "# Solution\n",
    "\n",
    "\n",
    "def EstimateSurvival(resp):\n",
    "    \"\"\"Estimates the survival curve.\n",
    "\n",
    "    resp: DataFrame of respondents\n",
    "\n",
    "    returns: pair of HazardFunction, SurvivalFunction\n",
    "    \"\"\"\n",
    "    complete = resp[resp.notdivorced == 0].duration.dropna()\n",
    "    ongoing = resp[resp.notdivorced == 1].durationsofar.dropna()\n",
    "\n",
    "    hf = survival.EstimateHazardFunction(complete, ongoing)\n",
    "    sf = hf.MakeSurvival()\n",
    "\n",
    "    return hf, sf"
   ]
  },
  {
   "cell_type": "code",
   "execution_count": 88,
   "metadata": {},
   "outputs": [
    {
     "data": {
      "image/png": "[encoded data removed]",
      "text/plain": [
       "<Figure size 432x288 with 1 Axes>"
      ]
     },
     "metadata": {
      "needs_background": "light"
     },
     "output_type": "display_data"
    },
    {
     "data": {
      "application/javascript": [
       "\n",
       "            setTimeout(function() {\n",
       "                var nbb_cell_id = 88;\n",
       "                var nbb_unformatted_code = \"# Solution\\n\\nResampleDivorceCurveByDecade([married6, married7])\";\n",
       "                var nbb_formatted_code = \"# Solution\\n\\nResampleDivorceCurveByDecade([married6, married7])\";\n",
       "                var nbb_cells = Jupyter.notebook.get_cells();\n",
       "                for (var i = 0; i < nbb_cells.length; ++i) {\n",
       "                    if (nbb_cells[i].input_prompt_number == nbb_cell_id) {\n",
       "                        if (nbb_cells[i].get_text() == nbb_unformatted_code) {\n",
       "                             nbb_cells[i].set_text(nbb_formatted_code);\n",
       "                        }\n",
       "                        break;\n",
       "                    }\n",
       "                }\n",
       "            }, 500);\n",
       "            "
      ],
      "text/plain": [
       "<IPython.core.display.Javascript object>"
      ]
     },
     "metadata": {},
     "output_type": "display_data"
    }
   ],
   "source": [
    "# Solution\n",
    "\n",
    "ResampleDivorceCurveByDecade([married6, married7])"
   ]
  },
  {
   "cell_type": "code",
   "execution_count": null,
   "metadata": {},
   "outputs": [],
   "source": []
  }
 ],
 "metadata": {
  "kernelspec": {
   "display_name": "Python 3 (ipykernel)",
   "language": "python",
   "name": "python3"
  },
  "language_info": {
   "codemirror_mode": {
    "name": "ipython",
    "version": 3
   },
   "file_extension": ".py",
   "mimetype": "text/x-python",
   "name": "python",
   "nbconvert_exporter": "python",
   "pygments_lexer": "ipython3",
   "version": "3.7.11"
  }
 },
 "nbformat": 4,
 "nbformat_minor": 1
}
